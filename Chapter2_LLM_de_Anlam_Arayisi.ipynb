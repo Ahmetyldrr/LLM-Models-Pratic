{
  "nbformat": 4,
  "nbformat_minor": 0,
  "metadata": {
    "colab": {
      "provenance": [],
      "toc_visible": true,
      "authorship_tag": "ABX9TyN+mWfHRGktaQBYllgWtdmi",
      "include_colab_link": true
    },
    "kernelspec": {
      "name": "python3",
      "display_name": "Python 3"
    },
    "language_info": {
      "name": "python"
    }
  },
  "cells": [
    {
      "cell_type": "markdown",
      "metadata": {
        "id": "view-in-github",
        "colab_type": "text"
      },
      "source": [
        "<a href=\"https://colab.research.google.com/github/Ahmetyldrr/LLM-Models-Pratic/blob/main/Chapter2_LLM_de_Anlam_Arayisi.ipynb\" target=\"_parent\"><img src=\"https://colab.research.google.com/assets/colab-badge.svg\" alt=\"Open In Colab\"/></a>"
      ]
    },
    {
      "cell_type": "markdown",
      "source": [
        "LLM de anlam arayısı Part 1\n",
        "https://colab.research.google.com/drive/1cMkV8lBH3gW1Xfd92rz3EikYRMfpU0Jf#scrollTo=0VmpbA-0Eg-t"
      ],
      "metadata": {
        "id": "VgyUF8Bw_o45"
      }
    },
    {
      "cell_type": "code",
      "source": [],
      "metadata": {
        "id": "kpIpUe7h_uko"
      },
      "execution_count": null,
      "outputs": []
    },
    {
      "cell_type": "code",
      "execution_count": null,
      "metadata": {
        "id": "AbBxVCwR9a70"
      },
      "outputs": [],
      "source": []
    }
  ]
}