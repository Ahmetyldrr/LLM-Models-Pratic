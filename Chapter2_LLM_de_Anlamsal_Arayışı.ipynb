Colab = https://colab.research.google.com/drive/1brGoMCwhwLMId4g5cJBq2kdvvWO-g1iG
