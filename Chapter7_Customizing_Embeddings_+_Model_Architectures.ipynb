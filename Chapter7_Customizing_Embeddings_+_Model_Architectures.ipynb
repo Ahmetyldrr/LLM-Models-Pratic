{
  "nbformat": 4,
  "nbformat_minor": 0,
  "metadata": {
    "colab": {
      "provenance": [],
      "authorship_tag": "ABX9TyOyGCMBryaJezv9jRBLTk/j",
      "include_colab_link": true
    },
    "kernelspec": {
      "name": "python3",
      "display_name": "Python 3"
    },
    "language_info": {
      "name": "python"
    }
  },
  "cells": [
    {
      "cell_type": "markdown",
      "metadata": {
        "id": "view-in-github",
        "colab_type": "text"
      },
      "source": [
        "<a href=\"https://colab.research.google.com/github/Ahmetyldrr/LLM-Models-Pratic/blob/main/Chapter7_Customizing_Embeddings_%2B_Model_Architectures.ipynb\" target=\"_parent\"><img src=\"https://colab.research.google.com/assets/colab-badge.svg\" alt=\"Open In Colab\"/></a>"
      ]
    },
    {
      "cell_type": "markdown",
      "source": [
        "source  : https://learning.oreilly.com/videos/quick-start-guide/9780135384800/9780135384800-QGL2_02_07_00/"
      ],
      "metadata": {
        "id": "KSDraF6AehZl"
      }
    },
    {
      "cell_type": "code",
      "execution_count": null,
      "metadata": {
        "id": "1fiojhK4eY4Q"
      },
      "outputs": [],
      "source": []
    }
  ]
}