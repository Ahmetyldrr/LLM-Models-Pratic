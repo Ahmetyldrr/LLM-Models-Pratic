{
  "nbformat": 4,
  "nbformat_minor": 0,
  "metadata": {
    "colab": {
      "provenance": [],
      "authorship_tag": "ABX9TyPelDw8mMIBQS6ZRV3da2+m",
      "include_colab_link": true
    },
    "kernelspec": {
      "name": "python3",
      "display_name": "Python 3"
    },
    "language_info": {
      "name": "python"
    }
  },
  "cells": [
    {
      "cell_type": "markdown",
      "metadata": {
        "id": "view-in-github",
        "colab_type": "text"
      },
      "source": [
        "<a href=\"https://colab.research.google.com/github/Ahmetyldrr/LLM-Models-Pratic/blob/main/Chapter9_Moving_Beyond_Foundation_Models.ipynb\" target=\"_parent\"><img src=\"https://colab.research.google.com/assets/colab-badge.svg\" alt=\"Open In Colab\"/></a>"
      ]
    },
    {
      "cell_type": "markdown",
      "source": [
        "source  : https://learning.oreilly.com/videos/quick-start-guide/9780135384800/9780135384800-QGL2_03_09_00/"
      ],
      "metadata": {
        "id": "HghXm33efH7Q"
      }
    }
  ]
}